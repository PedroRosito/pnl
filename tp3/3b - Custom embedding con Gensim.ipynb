{
 "cells": [
  {
   "cell_type": "markdown",
   "metadata": {
    "id": "sZd5yLnnHOK0"
   },
   "source": [
    "<img src=\"https://github.com/hernancontigiani/ceia_memorias_especializacion/raw/master/Figures/logoFIUBA.jpg\" width=\"500\" align=\"center\">\n",
    "\n",
    "\n",
    "# Procesamiento de lenguaje natural\n",
    "## Custom embedddings con Gensim\n",
    "\n"
   ]
  },
  {
   "cell_type": "markdown",
   "metadata": {
    "id": "vA7nqkumo9z9"
   },
   "source": [
    "### Objetivo\n",
    "El objetivo es utilizar documentos / corpus para crear embeddings de palabras basado en ese contexto. Se utilizará canciones de bandas para generar los embeddings, es decir, que los vectores tendrán la forma en función de como esa banda haya utilizado las palabras en sus canciones."
   ]
  },
  {
   "cell_type": "code",
   "execution_count": 27,
   "metadata": {
    "id": "lFToQs5FK5uZ"
   },
   "outputs": [],
   "source": [
    "import pandas as pd\n",
    "import matplotlib.pyplot as plt\n",
    "import seaborn as sns\n",
    "\n",
    "import multiprocessing\n",
    "from gensim.models import Word2Vec"
   ]
  },
  {
   "cell_type": "markdown",
   "metadata": {
    "id": "g07zJxG7H9vG"
   },
   "source": [
    "### Datos\n",
    "Utilizaremos como dataset el primer libro de Harry Potter."
   ]
  },
  {
   "cell_type": "code",
   "execution_count": 28,
   "metadata": {
    "id": "ticoqYD1Z3I7"
   },
   "outputs": [
    {
     "name": "stderr",
     "output_type": "stream",
     "text": [
      "/tmp/ipykernel_8597/665039940.py:2: ParserWarning:\n",
      "\n",
      "Falling back to the 'python' engine because the 'c' engine does not support regex separators (separators > 1 char and different from '\\s+' are interpreted as regex); you can avoid this warning by specifying engine='python'.\n",
      "\n"
     ]
    },
    {
     "data": {
      "text/html": [
       "<div>\n",
       "<style scoped>\n",
       "    .dataframe tbody tr th:only-of-type {\n",
       "        vertical-align: middle;\n",
       "    }\n",
       "\n",
       "    .dataframe tbody tr th {\n",
       "        vertical-align: top;\n",
       "    }\n",
       "\n",
       "    .dataframe thead th {\n",
       "        text-align: right;\n",
       "    }\n",
       "</style>\n",
       "<table border=\"1\" class=\"dataframe\">\n",
       "  <thead>\n",
       "    <tr style=\"text-align: right;\">\n",
       "      <th></th>\n",
       "      <th>0</th>\n",
       "    </tr>\n",
       "  </thead>\n",
       "  <tbody>\n",
       "    <tr>\n",
       "      <th>0</th>\n",
       "      <td>THE BOY WHO LIVED</td>\n",
       "    </tr>\n",
       "    <tr>\n",
       "      <th>1</th>\n",
       "      <td>Mr. and Mrs. Dursley, of number four, Privet D...</td>\n",
       "    </tr>\n",
       "    <tr>\n",
       "      <th>2</th>\n",
       "      <td>were proud to say that they were perfectly nor...</td>\n",
       "    </tr>\n",
       "    <tr>\n",
       "      <th>3</th>\n",
       "      <td>thank you very much. They were the last people...</td>\n",
       "    </tr>\n",
       "    <tr>\n",
       "      <th>4</th>\n",
       "      <td>expect to be involved in anything strange or</td>\n",
       "    </tr>\n",
       "  </tbody>\n",
       "</table>\n",
       "</div>"
      ],
      "text/plain": [
       "                                                   0\n",
       "0                                  THE BOY WHO LIVED\n",
       "1  Mr. and Mrs. Dursley, of number four, Privet D...\n",
       "2  were proud to say that they were perfectly nor...\n",
       "3  thank you very much. They were the last people...\n",
       "4       expect to be involved in anything strange or"
      ]
     },
     "execution_count": 28,
     "metadata": {},
     "output_type": "execute_result"
    }
   ],
   "source": [
    "# Armar el dataset utilizando salto de línea para separar las oraciones/docs\n",
    "df = pd.read_csv('Book 1-The Philosopher\\'s Stone.txt', sep='/n', header=None)\n",
    "df.head()"
   ]
  },
  {
   "cell_type": "code",
   "execution_count": 29,
   "metadata": {
    "id": "LEpKubK9XzXN"
   },
   "outputs": [
    {
     "name": "stdout",
     "output_type": "stream",
     "text": [
      "Cantidad de documentos: 10143\n"
     ]
    }
   ],
   "source": [
    "print(\"Cantidad de documentos:\", df.shape[0])"
   ]
  },
  {
   "cell_type": "markdown",
   "metadata": {
    "id": "ab94qaFlrA1G"
   },
   "source": [
    "### 1 - Preprocesamiento"
   ]
  },
  {
   "cell_type": "code",
   "execution_count": 30,
   "metadata": {
    "id": "rIsmMWmjrDHd"
   },
   "outputs": [],
   "source": [
    "from keras.preprocessing.text import text_to_word_sequence\n",
    "\n",
    "sentence_tokens = []\n",
    "# Recorrer todas las filas y transformar las oraciones\n",
    "# en una secuencia de palabras (esto podría realizarse con NLTK o spaCy también)\n",
    "for _, row in df[:None].iterrows():\n",
    "    sentence_tokens.append(text_to_word_sequence(row[0]))"
   ]
  },
  {
   "cell_type": "code",
   "execution_count": 31,
   "metadata": {
    "id": "CHepi_DGrbhq"
   },
   "outputs": [
    {
     "data": {
      "text/plain": [
       "[['the', 'boy', 'who', 'lived'],\n",
       " ['mr', 'and', 'mrs', 'dursley', 'of', 'number', 'four', 'privet', 'drive']]"
      ]
     },
     "execution_count": 31,
     "metadata": {},
     "output_type": "execute_result"
    }
   ],
   "source": [
    "# Demos un vistazo\n",
    "sentence_tokens[:2]"
   ]
  },
  {
   "cell_type": "markdown",
   "metadata": {
    "id": "BaXV6nlHr5Aa"
   },
   "source": [
    "### 2 - Crear los vectores (word2vec)"
   ]
  },
  {
   "cell_type": "code",
   "execution_count": 32,
   "metadata": {
    "id": "OSb0v7h8r7hK"
   },
   "outputs": [],
   "source": [
    "from gensim.models.callbacks import CallbackAny2Vec\n",
    "# Durante el entrenamiento gensim por defecto no informa el \"loss\" en cada época\n",
    "# Sobrecargamos el callback para poder tener esta información\n",
    "class callback(CallbackAny2Vec):\n",
    "    \"\"\"\n",
    "    Callback to print loss after each epoch\n",
    "    \"\"\"\n",
    "    def __init__(self):\n",
    "        self.epoch = 0\n",
    "\n",
    "    def on_epoch_end(self, model):\n",
    "        loss = model.get_latest_training_loss()\n",
    "        if self.epoch == 0:\n",
    "            print('Loss after epoch {}: {}'.format(self.epoch, loss))\n",
    "        else:\n",
    "            print('Loss after epoch {}: {}'.format(self.epoch, loss- self.loss_previous_step))\n",
    "        self.epoch += 1\n",
    "        self.loss_previous_step = loss"
   ]
  },
  {
   "cell_type": "code",
   "execution_count": 33,
   "metadata": {
    "id": "i0wnDdv9sJ47"
   },
   "outputs": [],
   "source": [
    "# Crearmos el modelo generador de vectores\n",
    "# En este caso utilizaremos la estructura modelo Skipgram\n",
    "w2v_model = Word2Vec(min_count=5,    # frecuencia mínima de palabra para incluirla en el vocabulario\n",
    "                     window=2,       # cant de palabras antes y desp de la predicha\n",
    "                     vector_size=300,       # dimensionalidad de los vectores \n",
    "                     negative=20,    # cantidad de negative samples... 0 es no se usa\n",
    "                     workers=1,      # si tienen más cores pueden cambiar este valor\n",
    "                     sg=1)           # modelo 0:CBOW  1:skipgram"
   ]
  },
  {
   "cell_type": "code",
   "execution_count": 34,
   "metadata": {
    "id": "5lTt8wErsf17"
   },
   "outputs": [],
   "source": [
    "# Obtener el vocabulario con los tokens\n",
    "w2v_model.build_vocab(sentence_tokens)"
   ]
  },
  {
   "cell_type": "code",
   "execution_count": 35,
   "metadata": {
    "id": "TNc9qt4os5AT"
   },
   "outputs": [
    {
     "name": "stdout",
     "output_type": "stream",
     "text": [
      "Cantidad de docs en el corpus: 10143\n"
     ]
    }
   ],
   "source": [
    "# Cantidad de filas/docs encontradas en el corpus\n",
    "print(\"Cantidad de docs en el corpus:\", w2v_model.corpus_count)"
   ]
  },
  {
   "cell_type": "code",
   "execution_count": 36,
   "metadata": {
    "id": "idw9cHF3tSMl"
   },
   "outputs": [
    {
     "name": "stdout",
     "output_type": "stream",
     "text": [
      "Cantidad de words distintas en el corpus: 1794\n"
     ]
    }
   ],
   "source": [
    "# Cantidad de words encontradas en el corpus\n",
    "print(\"Cantidad de words distintas en el corpus:\", len(w2v_model.wv.index_to_key))"
   ]
  },
  {
   "cell_type": "markdown",
   "metadata": {
    "id": "fC9mZ8DPk-UC"
   },
   "source": [
    "### 3 - Entrenar el modelo generador"
   ]
  },
  {
   "cell_type": "code",
   "execution_count": 37,
   "metadata": {
    "id": "QSp-x0PAsq56"
   },
   "outputs": [
    {
     "name": "stdout",
     "output_type": "stream",
     "text": [
      "Loss after epoch 0: 685916.5625\n",
      "Loss after epoch 1: 483231.1875\n",
      "Loss after epoch 2: 435262.25\n",
      "Loss after epoch 3: 426776.25\n",
      "Loss after epoch 4: 379181.75\n",
      "Loss after epoch 5: 367411.25\n",
      "Loss after epoch 6: 364376.75\n",
      "Loss after epoch 7: 360744.25\n",
      "Loss after epoch 8: 357541.0\n",
      "Loss after epoch 9: 353716.25\n",
      "Loss after epoch 10: 327654.5\n",
      "Loss after epoch 11: 326120.0\n",
      "Loss after epoch 12: 322325.5\n",
      "Loss after epoch 13: 318897.0\n",
      "Loss after epoch 14: 316822.5\n",
      "Loss after epoch 15: 312564.5\n",
      "Loss after epoch 16: 308766.0\n",
      "Loss after epoch 17: 306620.5\n",
      "Loss after epoch 18: 304913.5\n",
      "Loss after epoch 19: 301543.0\n",
      "Loss after epoch 20: 299611.5\n",
      "Loss after epoch 21: 297775.5\n",
      "Loss after epoch 22: 296261.5\n",
      "Loss after epoch 23: 285513.0\n",
      "Loss after epoch 24: 274081.0\n",
      "Loss after epoch 25: 272453.0\n",
      "Loss after epoch 26: 270017.0\n",
      "Loss after epoch 27: 268892.0\n",
      "Loss after epoch 28: 268538.0\n",
      "Loss after epoch 29: 266518.0\n",
      "Loss after epoch 30: 265656.0\n",
      "Loss after epoch 31: 265299.0\n",
      "Loss after epoch 32: 263628.0\n",
      "Loss after epoch 33: 262732.0\n",
      "Loss after epoch 34: 262121.0\n",
      "Loss after epoch 35: 263037.0\n",
      "Loss after epoch 36: 262081.0\n",
      "Loss after epoch 37: 258859.0\n",
      "Loss after epoch 38: 259116.0\n",
      "Loss after epoch 39: 258505.0\n",
      "Loss after epoch 40: 259900.0\n",
      "Loss after epoch 41: 258622.0\n",
      "Loss after epoch 42: 256794.0\n",
      "Loss after epoch 43: 257549.0\n",
      "Loss after epoch 44: 256639.0\n",
      "Loss after epoch 45: 254564.0\n",
      "Loss after epoch 46: 257004.0\n",
      "Loss after epoch 47: 255860.0\n",
      "Loss after epoch 48: 256080.0\n",
      "Loss after epoch 49: 254428.0\n",
      "Loss after epoch 50: 252960.0\n",
      "Loss after epoch 51: 253481.0\n",
      "Loss after epoch 52: 253380.0\n",
      "Loss after epoch 53: 253284.0\n",
      "Loss after epoch 54: 253076.0\n",
      "Loss after epoch 55: 244114.0\n",
      "Loss after epoch 56: 227644.0\n",
      "Loss after epoch 57: 229000.0\n",
      "Loss after epoch 58: 228142.0\n",
      "Loss after epoch 59: 227678.0\n",
      "Loss after epoch 60: 228214.0\n",
      "Loss after epoch 61: 226956.0\n",
      "Loss after epoch 62: 226406.0\n",
      "Loss after epoch 63: 227108.0\n",
      "Loss after epoch 64: 225908.0\n",
      "Loss after epoch 65: 227526.0\n",
      "Loss after epoch 66: 225626.0\n",
      "Loss after epoch 67: 224124.0\n",
      "Loss after epoch 68: 227226.0\n",
      "Loss after epoch 69: 225294.0\n",
      "Loss after epoch 70: 225668.0\n",
      "Loss after epoch 71: 223768.0\n",
      "Loss after epoch 72: 224276.0\n",
      "Loss after epoch 73: 224272.0\n",
      "Loss after epoch 74: 224138.0\n",
      "Loss after epoch 75: 223786.0\n",
      "Loss after epoch 76: 224704.0\n",
      "Loss after epoch 77: 222984.0\n",
      "Loss after epoch 78: 222982.0\n",
      "Loss after epoch 79: 222516.0\n",
      "Loss after epoch 80: 222024.0\n",
      "Loss after epoch 81: 223968.0\n",
      "Loss after epoch 82: 223114.0\n",
      "Loss after epoch 83: 221948.0\n",
      "Loss after epoch 84: 221666.0\n",
      "Loss after epoch 85: 221610.0\n",
      "Loss after epoch 86: 222504.0\n",
      "Loss after epoch 87: 220754.0\n",
      "Loss after epoch 88: 222912.0\n",
      "Loss after epoch 89: 221426.0\n",
      "Loss after epoch 90: 221450.0\n",
      "Loss after epoch 91: 220362.0\n",
      "Loss after epoch 92: 221186.0\n",
      "Loss after epoch 93: 221000.0\n",
      "Loss after epoch 94: 219526.0\n",
      "Loss after epoch 95: 218592.0\n",
      "Loss after epoch 96: 219158.0\n",
      "Loss after epoch 97: 219098.0\n",
      "Loss after epoch 98: 219524.0\n",
      "Loss after epoch 99: 219920.0\n",
      "Loss after epoch 100: 218818.0\n",
      "Loss after epoch 101: 218164.0\n",
      "Loss after epoch 102: 220044.0\n",
      "Loss after epoch 103: 219858.0\n",
      "Loss after epoch 104: 218586.0\n",
      "Loss after epoch 105: 217922.0\n",
      "Loss after epoch 106: 218506.0\n",
      "Loss after epoch 107: 219048.0\n",
      "Loss after epoch 108: 216534.0\n",
      "Loss after epoch 109: 215848.0\n",
      "Loss after epoch 110: 216384.0\n",
      "Loss after epoch 111: 216486.0\n",
      "Loss after epoch 112: 216588.0\n",
      "Loss after epoch 113: 215172.0\n",
      "Loss after epoch 114: 214918.0\n",
      "Loss after epoch 115: 217110.0\n",
      "Loss after epoch 116: 215528.0\n",
      "Loss after epoch 117: 215904.0\n",
      "Loss after epoch 118: 215842.0\n",
      "Loss after epoch 119: 215198.0\n",
      "Loss after epoch 120: 214806.0\n",
      "Loss after epoch 121: 213276.0\n",
      "Loss after epoch 122: 213802.0\n",
      "Loss after epoch 123: 214002.0\n",
      "Loss after epoch 124: 213800.0\n",
      "Loss after epoch 125: 214108.0\n",
      "Loss after epoch 126: 212768.0\n",
      "Loss after epoch 127: 213142.0\n",
      "Loss after epoch 128: 214884.0\n",
      "Loss after epoch 129: 212960.0\n",
      "Loss after epoch 130: 211934.0\n",
      "Loss after epoch 131: 205910.0\n",
      "Loss after epoch 132: 180308.0\n",
      "Loss after epoch 133: 178088.0\n",
      "Loss after epoch 134: 180376.0\n",
      "Loss after epoch 135: 179624.0\n",
      "Loss after epoch 136: 178300.0\n",
      "Loss after epoch 137: 178024.0\n",
      "Loss after epoch 138: 179512.0\n",
      "Loss after epoch 139: 177400.0\n",
      "Loss after epoch 140: 178064.0\n",
      "Loss after epoch 141: 179856.0\n",
      "Loss after epoch 142: 177504.0\n",
      "Loss after epoch 143: 179120.0\n",
      "Loss after epoch 144: 177676.0\n",
      "Loss after epoch 145: 176708.0\n",
      "Loss after epoch 146: 177516.0\n",
      "Loss after epoch 147: 174752.0\n",
      "Loss after epoch 148: 175084.0\n",
      "Loss after epoch 149: 175008.0\n",
      "Loss after epoch 150: 175112.0\n",
      "Loss after epoch 151: 176028.0\n",
      "Loss after epoch 152: 172840.0\n",
      "Loss after epoch 153: 175688.0\n",
      "Loss after epoch 154: 173700.0\n",
      "Loss after epoch 155: 174076.0\n",
      "Loss after epoch 156: 172776.0\n",
      "Loss after epoch 157: 174448.0\n",
      "Loss after epoch 158: 173904.0\n",
      "Loss after epoch 159: 173520.0\n",
      "Loss after epoch 160: 172800.0\n",
      "Loss after epoch 161: 172812.0\n",
      "Loss after epoch 162: 173436.0\n",
      "Loss after epoch 163: 174576.0\n",
      "Loss after epoch 164: 171532.0\n",
      "Loss after epoch 165: 171032.0\n",
      "Loss after epoch 166: 174260.0\n",
      "Loss after epoch 167: 173092.0\n",
      "Loss after epoch 168: 171712.0\n",
      "Loss after epoch 169: 170396.0\n",
      "Loss after epoch 170: 171016.0\n",
      "Loss after epoch 171: 170968.0\n",
      "Loss after epoch 172: 169472.0\n",
      "Loss after epoch 173: 170500.0\n",
      "Loss after epoch 174: 170052.0\n",
      "Loss after epoch 175: 169172.0\n",
      "Loss after epoch 176: 168900.0\n",
      "Loss after epoch 177: 168188.0\n",
      "Loss after epoch 178: 169408.0\n",
      "Loss after epoch 179: 168652.0\n",
      "Loss after epoch 180: 168480.0\n",
      "Loss after epoch 181: 166036.0\n",
      "Loss after epoch 182: 167924.0\n",
      "Loss after epoch 183: 169560.0\n",
      "Loss after epoch 184: 167248.0\n",
      "Loss after epoch 185: 167608.0\n",
      "Loss after epoch 186: 167976.0\n",
      "Loss after epoch 187: 169108.0\n",
      "Loss after epoch 188: 166060.0\n",
      "Loss after epoch 189: 165976.0\n",
      "Loss after epoch 190: 168100.0\n",
      "Loss after epoch 191: 164988.0\n",
      "Loss after epoch 192: 165700.0\n",
      "Loss after epoch 193: 165368.0\n",
      "Loss after epoch 194: 164360.0\n",
      "Loss after epoch 195: 165316.0\n",
      "Loss after epoch 196: 165264.0\n",
      "Loss after epoch 197: 161932.0\n",
      "Loss after epoch 198: 164192.0\n",
      "Loss after epoch 199: 164452.0\n"
     ]
    },
    {
     "data": {
      "text/plain": [
       "(11023381, 17013200)"
      ]
     },
     "execution_count": 37,
     "metadata": {},
     "output_type": "execute_result"
    }
   ],
   "source": [
    "# Entrenamos el modelo generador de vectores\n",
    "# Utilizamos nuestro callback\n",
    "w2v_model.train(sentence_tokens,\n",
    "                 total_examples=w2v_model.corpus_count,\n",
    "                 epochs=200,\n",
    "                 compute_loss = True,\n",
    "                 callbacks=[callback()]\n",
    "                 )"
   ]
  },
  {
   "cell_type": "markdown",
   "metadata": {
    "id": "ddT9NVuNlCAe"
   },
   "source": [
    "### 4 - Ensayar"
   ]
  },
  {
   "cell_type": "code",
   "execution_count": 38,
   "metadata": {
    "id": "6cHN9xGLuPEm"
   },
   "outputs": [
    {
     "data": {
      "text/plain": [
       "[('proper', 0.3462655544281006),\n",
       " ('ordinary', 0.3452013432979584),\n",
       " ('d', 0.3074802756309509),\n",
       " ('goblins', 0.30632904171943665),\n",
       " ('often', 0.3060491383075714),\n",
       " ('history', 0.30495935678482056),\n",
       " ('case', 0.30302831530570984),\n",
       " ('ministry', 0.2988910973072052),\n",
       " ('breaking', 0.2946619391441345),\n",
       " ('today', 0.2908533811569214)]"
      ]
     },
     "execution_count": 38,
     "metadata": {},
     "output_type": "execute_result"
    }
   ],
   "source": [
    "# Palabras que MÁS se relacionan con...:\n",
    "w2v_model.wv.most_similar(positive=[\"magic\"], topn=10)"
   ]
  },
  {
   "cell_type": "code",
   "execution_count": 39,
   "metadata": {},
   "outputs": [
    {
     "data": {
      "text/plain": [
       "[('hooch', 0.32403385639190674),\n",
       " ('“get', 0.31105950474739075),\n",
       " ('herself', 0.29633060097694397),\n",
       " ('leaning', 0.2941463589668274),\n",
       " ('fallen', 0.2879769504070282),\n",
       " ('knight', 0.2871142327785492),\n",
       " ('sharply', 0.2866591215133667),\n",
       " ('attention', 0.28014370799064636),\n",
       " ('stranger', 0.27895069122314453),\n",
       " ('hate', 0.2783515155315399)]"
      ]
     },
     "execution_count": 39,
     "metadata": {},
     "output_type": "execute_result"
    }
   ],
   "source": [
    "# Palabras que MÁS se relacionan con...:\n",
    "w2v_model.wv.most_similar(positive=[\"hermione\"], topn=10)"
   ]
  },
  {
   "cell_type": "code",
   "execution_count": 40,
   "metadata": {},
   "outputs": [
    {
     "data": {
      "text/plain": [
       "[('mumbled', 0.2949409484863281),\n",
       " ('sounding', 0.29155096411705017),\n",
       " ('shrieked', 0.289141982793808),\n",
       " ('stretched', 0.2875233292579651),\n",
       " ('moaned', 0.2866344749927521),\n",
       " ('hissed', 0.2818051874637604),\n",
       " ('anxiously', 0.2722613215446472),\n",
       " ('hermione', 0.271834135055542),\n",
       " ('sheets', 0.26614806056022644),\n",
       " ('fine', 0.2646057903766632)]"
      ]
     },
     "execution_count": 40,
     "metadata": {},
     "output_type": "execute_result"
    }
   ],
   "source": [
    "# Palabras que MÁS se relacionan con...:\n",
    "w2v_model.wv.most_similar(positive=[\"ron\"], topn=10)"
   ]
  },
  {
   "cell_type": "code",
   "execution_count": 41,
   "metadata": {},
   "outputs": [
    {
     "data": {
      "text/plain": [
       "[('mrs', 0.3985974192619324),\n",
       " ('mr', 0.3735896348953247),\n",
       " ('drove', 0.36803898215293884),\n",
       " ('draco', 0.3406873643398285),\n",
       " ('crying', 0.33062708377838135),\n",
       " ('figg', 0.3294597268104553),\n",
       " ('reading', 0.3238988518714905),\n",
       " ('nicolas', 0.3194156885147095),\n",
       " ('lily', 0.3174111545085907),\n",
       " ('struck', 0.31458166241645813)]"
      ]
     },
     "execution_count": 41,
     "metadata": {},
     "output_type": "execute_result"
    }
   ],
   "source": [
    "# Palabras que MÁS se relacionan con...:\n",
    "w2v_model.wv.most_similar(positive=[\"dursley\"], topn=10)"
   ]
  },
  {
   "cell_type": "code",
   "execution_count": 42,
   "metadata": {},
   "outputs": [
    {
     "data": {
      "text/plain": [
       "[('draco', 0.396837055683136),\n",
       " ('goyle', 0.3384241759777069),\n",
       " ('mine', 0.3341669738292694),\n",
       " ('grinned', 0.32287296652793884),\n",
       " ('crabbe', 0.31418469548225403),\n",
       " ('frightened', 0.28948330879211426),\n",
       " ('packed', 0.28671708703041077),\n",
       " ('thousand', 0.2860214114189148),\n",
       " ('laughter', 0.2789485454559326),\n",
       " ('knees', 0.2785743474960327)]"
      ]
     },
     "execution_count": 42,
     "metadata": {},
     "output_type": "execute_result"
    }
   ],
   "source": [
    "# Palabras que MÁS se relacionan con...:\n",
    "w2v_model.wv.most_similar(positive=[\"malfoy\"], topn=10)"
   ]
  },
  {
   "cell_type": "code",
   "execution_count": 43,
   "metadata": {
    "id": "47HiU5gdkdMq"
   },
   "outputs": [
    {
     "data": {
      "text/plain": [
       "[('ground', 0.06237461790442467),\n",
       " ('feeling', 0.042962513864040375),\n",
       " ('lay', 0.042097222059965134),\n",
       " ('sat', 0.040914855897426605),\n",
       " ('legs', 0.03921947628259659),\n",
       " ('forgotten', 0.0310788806527853),\n",
       " ('water', 0.025649912655353546),\n",
       " ('also', 0.01710178516805172),\n",
       " ('sound', 0.01603684015572071),\n",
       " ('filch', 0.014373709447681904)]"
      ]
     },
     "execution_count": 43,
     "metadata": {},
     "output_type": "execute_result"
    }
   ],
   "source": [
    "# Palabras que MENOS se relacionan con...:\n",
    "w2v_model.wv.most_similar(negative=[\"hogwarts\"], topn=10)"
   ]
  },
  {
   "cell_type": "code",
   "execution_count": 44,
   "metadata": {
    "id": "DT4Rvno2mD65"
   },
   "outputs": [
    {
     "data": {
      "text/plain": [
       "[('dressed', 0.3774559199810028),\n",
       " ('families', 0.35730692744255066),\n",
       " ('“not', 0.350401371717453),\n",
       " ('beans', 0.34601160883903503),\n",
       " ('er', 0.33243003487586975),\n",
       " ('nothin’', 0.33231690526008606),\n",
       " ('“yeh', 0.33118414878845215),\n",
       " ('meeting', 0.32793739438056946),\n",
       " ('our', 0.32603248953819275),\n",
       " ('gets', 0.3247361481189728)]"
      ]
     },
     "execution_count": 44,
     "metadata": {},
     "output_type": "execute_result"
    }
   ],
   "source": [
    "# Palabras que MÁS se relacionan con...:\n",
    "w2v_model.wv.most_similar(positive=[\"muggle\"], topn=10)"
   ]
  },
  {
   "cell_type": "code",
   "execution_count": 45,
   "metadata": {},
   "outputs": [
    {
     "data": {
      "text/plain": [
       "[('tower', 0.34224411845207214),\n",
       " ('gryffindors', 0.33077874779701233),\n",
       " ('goal', 0.323725163936615),\n",
       " ('points', 0.3173125386238098),\n",
       " ('afford', 0.31698521971702576),\n",
       " ('posts', 0.3132522702217102),\n",
       " ('thrown', 0.3132173418998718),\n",
       " ('gotta', 0.3129391372203827),\n",
       " ('everywhere', 0.3079492151737213),\n",
       " ('marcus', 0.3055194914340973)]"
      ]
     },
     "execution_count": 45,
     "metadata": {},
     "output_type": "execute_result"
    }
   ],
   "source": [
    "# Palabras que MÁS se relacionan con...:\n",
    "w2v_model.wv.most_similar(positive=[\"gryffindor\"], topn=10)"
   ]
  },
  {
   "cell_type": "code",
   "execution_count": 46,
   "metadata": {
    "id": "XPLDPgzBmQXt"
   },
   "outputs": [
    {
     "data": {
      "text/plain": [
       "[('chest', 0.33109748363494873),\n",
       " ('jus’', 0.3181031048297882),\n",
       " ('anxiously', 0.3158767521381378),\n",
       " ('umbrella', 0.30286911129951477),\n",
       " ('nearest', 0.29883819818496704)]"
      ]
     },
     "execution_count": 46,
     "metadata": {},
     "output_type": "execute_result"
    }
   ],
   "source": [
    "# Palabras que MÁS se relacionan con...:\n",
    "w2v_model.wv.most_similar(positive=[\"hagrid\"], topn=5)"
   ]
  },
  {
   "cell_type": "code",
   "execution_count": 47,
   "metadata": {
    "id": "L_UvHPMMklOr"
   },
   "outputs": [
    {
     "ename": "KeyError",
     "evalue": "\"Key 'diedaa' not present in vocabulary\"",
     "output_type": "error",
     "traceback": [
      "\u001b[0;31m---------------------------------------------------------------------------\u001b[0m",
      "\u001b[0;31mKeyError\u001b[0m                                  Traceback (most recent call last)",
      "Cell \u001b[0;32mIn[47], line 2\u001b[0m\n\u001b[1;32m      1\u001b[0m \u001b[39m# Ensayar con una palabra que no está en el vocabulario:\u001b[39;00m\n\u001b[0;32m----> 2\u001b[0m w2v_model\u001b[39m.\u001b[39;49mwv\u001b[39m.\u001b[39;49mmost_similar(negative\u001b[39m=\u001b[39;49m[\u001b[39m\"\u001b[39;49m\u001b[39mdiedaa\u001b[39;49m\u001b[39m\"\u001b[39;49m])\n",
      "File \u001b[0;32m~/miniconda3/envs/pnl/lib/python3.9/site-packages/gensim/models/keyedvectors.py:841\u001b[0m, in \u001b[0;36mKeyedVectors.most_similar\u001b[0;34m(self, positive, negative, topn, clip_start, clip_end, restrict_vocab, indexer)\u001b[0m\n\u001b[1;32m    838\u001b[0m         weight[idx] \u001b[39m=\u001b[39m item[\u001b[39m1\u001b[39m]\n\u001b[1;32m    840\u001b[0m \u001b[39m# compute the weighted average of all keys\u001b[39;00m\n\u001b[0;32m--> 841\u001b[0m mean \u001b[39m=\u001b[39m \u001b[39mself\u001b[39;49m\u001b[39m.\u001b[39;49mget_mean_vector(keys, weight, pre_normalize\u001b[39m=\u001b[39;49m\u001b[39mTrue\u001b[39;49;00m, post_normalize\u001b[39m=\u001b[39;49m\u001b[39mTrue\u001b[39;49;00m, ignore_missing\u001b[39m=\u001b[39;49m\u001b[39mFalse\u001b[39;49;00m)\n\u001b[1;32m    842\u001b[0m all_keys \u001b[39m=\u001b[39m [\n\u001b[1;32m    843\u001b[0m     \u001b[39mself\u001b[39m\u001b[39m.\u001b[39mget_index(key) \u001b[39mfor\u001b[39;00m key \u001b[39min\u001b[39;00m keys \u001b[39mif\u001b[39;00m \u001b[39misinstance\u001b[39m(key, _KEY_TYPES) \u001b[39mand\u001b[39;00m \u001b[39mself\u001b[39m\u001b[39m.\u001b[39mhas_index_for(key)\n\u001b[1;32m    844\u001b[0m ]\n\u001b[1;32m    846\u001b[0m \u001b[39mif\u001b[39;00m indexer \u001b[39mis\u001b[39;00m \u001b[39mnot\u001b[39;00m \u001b[39mNone\u001b[39;00m \u001b[39mand\u001b[39;00m \u001b[39misinstance\u001b[39m(topn, \u001b[39mint\u001b[39m):\n",
      "File \u001b[0;32m~/miniconda3/envs/pnl/lib/python3.9/site-packages/gensim/models/keyedvectors.py:518\u001b[0m, in \u001b[0;36mKeyedVectors.get_mean_vector\u001b[0;34m(self, keys, weights, pre_normalize, post_normalize, ignore_missing)\u001b[0m\n\u001b[1;32m    516\u001b[0m         total_weight \u001b[39m+\u001b[39m\u001b[39m=\u001b[39m \u001b[39mabs\u001b[39m(weights[idx])\n\u001b[1;32m    517\u001b[0m     \u001b[39melif\u001b[39;00m \u001b[39mnot\u001b[39;00m ignore_missing:\n\u001b[0;32m--> 518\u001b[0m         \u001b[39mraise\u001b[39;00m \u001b[39mKeyError\u001b[39;00m(\u001b[39mf\u001b[39m\u001b[39m\"\u001b[39m\u001b[39mKey \u001b[39m\u001b[39m'\u001b[39m\u001b[39m{\u001b[39;00mkey\u001b[39m}\u001b[39;00m\u001b[39m'\u001b[39m\u001b[39m not present in vocabulary\u001b[39m\u001b[39m\"\u001b[39m)\n\u001b[1;32m    520\u001b[0m \u001b[39mif\u001b[39;00m total_weight \u001b[39m>\u001b[39m \u001b[39m0\u001b[39m:\n\u001b[1;32m    521\u001b[0m     mean \u001b[39m=\u001b[39m mean \u001b[39m/\u001b[39m total_weight\n",
      "\u001b[0;31mKeyError\u001b[0m: \"Key 'diedaa' not present in vocabulary\""
     ]
    }
   ],
   "source": [
    "# Ensayar con una palabra que no está en el vocabulario:\n",
    "w2v_model.wv.most_similar(negative=[\"diedaa\"])"
   ]
  },
  {
   "cell_type": "markdown",
   "metadata": {
    "id": "_g8UVWe6lFmh"
   },
   "source": [
    "### 5 - Visualizar agrupación de vectores"
   ]
  },
  {
   "cell_type": "code",
   "execution_count": 48,
   "metadata": {
    "id": "pDxEVXAivjr9"
   },
   "outputs": [],
   "source": [
    "from sklearn.decomposition import IncrementalPCA    \n",
    "from sklearn.manifold import TSNE                   \n",
    "import numpy as np                                  \n",
    "\n",
    "def reduce_dimensions(model):\n",
    "    num_dimensions = 2  \n",
    "\n",
    "    vectors = np.asarray(model.wv.vectors)\n",
    "    labels = np.asarray(model.wv.index_to_key)  \n",
    "\n",
    "    tsne = TSNE(n_components=num_dimensions, random_state=0)\n",
    "    vectors = tsne.fit_transform(vectors)\n",
    "\n",
    "    x_vals = [v[0] for v in vectors]\n",
    "    y_vals = [v[1] for v in vectors]\n",
    "    return x_vals, y_vals, labels"
   ]
  },
  {
   "cell_type": "code",
   "execution_count": 49,
   "metadata": {
    "id": "NCCXtDpcugmd"
   },
   "outputs": [
    {
     "data": {
      "application/vnd.plotly.v1+json": {
       "config": {
        "plotlyServerURL": "https://plot.ly"
       },
       "data": [
        {
         "hovertemplate": "x=%{x}<br>y=%{y}<br>text=%{text}<extra></extra>",
         "legendgroup": "",
         "marker": {
          "color": "#636efa",
          "symbol": "circle"
         },
         "mode": "markers+text",
         "name": "",
         "orientation": "v",
         "showlegend": false,
         "text": [
          "the",
          "”",
          "and",
          "to",
          "a",
          "harry",
          "he",
          "of",
          "was",
          "it",
          "in",
          "his",
          "—",
          "you",
          "said",
          "had",
          "on",
          "at",
          "they",
          "that",
          "as",
          "him",
          "i",
          "potter",
          "but",
          "stone",
          "with",
          "ron",
          "all",
          "out",
          "up",
          "for",
          "be",
          "k",
          "page",
          "philosophers",
          "j",
          "rowling",
          "hagrid",
          "them",
          "were",
          "have",
          "what",
          "there",
          "hermione",
          "back",
          "one",
          "from",
          "this",
          "not",
          "if",
          "she",
          "about",
          "into",
          "their",
          "me",
          "know",
          "been",
          "so",
          "off",
          "didn’t",
          "could",
          "got",
          "like",
          "get",
          "down",
          "“i",
          "her",
          "when",
          "who",
          "over",
          "looked",
          "professor",
          "see",
          "just",
          "very",
          "is",
          "then",
          "no",
          "do",
          "by",
          "snape",
          "your",
          "are",
          "now",
          "dumbledore",
          "around",
          "he’d",
          "going",
          "something",
          "an",
          "through",
          "we",
          "think",
          "go",
          "uncle",
          "time",
          "right",
          "don’t",
          "never",
          "dudley",
          "look",
          "first",
          "how",
          "harry’s",
          "here",
          "looking",
          "more",
          "malfoy",
          "before",
          "only",
          "it’s",
          "eyes",
          "door",
          "or",
          "would",
          "couldn’t",
          "vernon",
          "even",
          "two",
          "too",
          "again",
          "head",
          "neville",
          "my",
          "thought",
          "next",
          "yeh",
          "mcgonagall",
          "way",
          "face",
          "where",
          "than",
          "told",
          "people",
          "did",
          "still",
          "room",
          "other",
          "quirrell",
          "though",
          "will",
          "last",
          "which",
          "because",
          "its",
          "boy",
          "left",
          "an’",
          "come",
          "gryffindor",
          "us",
          "“you",
          "mr",
          "behind",
          "ter",
          "some",
          "house",
          "turned",
          "much",
          "hogwarts",
          "wasn’t",
          "came",
          "heard",
          "i’m",
          "can",
          "three",
          "once",
          "seemed",
          "say",
          "toward",
          "long",
          "went",
          "really",
          "away",
          "anything",
          "good",
          "little",
          "great",
          "well",
          "want",
          "suddenly",
          "hand",
          "tell",
          "found",
          "bit",
          "made",
          "school",
          "after",
          "trying",
          "himself",
          "aunt",
          "tried",
          "“what",
          "any",
          "wand",
          "saw",
          "“but",
          "knew",
          "dark"
         ],
         "type": "scatter",
         "x": [
          -0.15725195,
          0.9464908,
          -0.28016618,
          0.17880712,
          -0.108188294,
          0.106615484,
          0.19192228,
          -0.23536025,
          -0.1487451,
          0.2832844,
          -0.11685035,
          -0.5835422,
          0.73666847,
          1.2161114,
          0.95571935,
          -0.09875184,
          -0.24508415,
          -0.15132767,
          0.08783001,
          0.35485175,
          -0.054849464,
          0.045690667,
          1.3125896,
          0.9810935,
          0.4131004,
          0.8873868,
          -0.30026844,
          0.21604638,
          0.49983543,
          -0.31097674,
          -0.1950165,
          0.05921897,
          0.6458769,
          0.7115503,
          0.54550964,
          0.6616725,
          0.6383463,
          0.7151415,
          0.24835904,
          -0.055739447,
          -0.2765085,
          0.48408258,
          0.84806556,
          0.4379408,
          0.030502293,
          -0.2855932,
          0.015726972,
          -0.36905542,
          0.36543792,
          1.9295168,
          0.9158377,
          0.022584653,
          0.4038355,
          -0.4832446,
          3.5604246,
          0.7547134,
          1.5438242,
          0.14415523,
          0.13043228,
          -0.25892636,
          0.29290336,
          0.3472432,
          1.1580392,
          -0.5242487,
          0.22259529,
          -0.64918506,
          0.87127525,
          -0.34161434,
          0.00911579,
          0.40850747,
          -0.3129136,
          -0.5785826,
          -6.025615,
          0.78614235,
          0.31320754,
          -0.05670962,
          1.5220027,
          3.7020743,
          0.13996357,
          0.8198194,
          -4.4561105,
          0.009283572,
          0.6976935,
          1.5367488,
          0.25045902,
          1.0883398,
          4.942709,
          5.1248784,
          0.720563,
          4.751837,
          4.5958605,
          -3.2426758,
          1.137126,
          1.0430872,
          0.22583647,
          -4.4067073,
          -0.21646641,
          1.7448252,
          1.3881311,
          0.65660095,
          4.7292075,
          5.028994,
          5.3845816,
          0.5494777,
          6.2694445,
          0.90928936,
          -0.46493492,
          5.618499,
          4.725133,
          6.3822894,
          0.31075534,
          1.4972664,
          5.687267,
          -1.0230111,
          3.8941622,
          0.2739329,
          0.058952305,
          -4.410437,
          -1.9475942,
          -0.15181708,
          5.0247726,
          -0.7792551,
          -2.0382612,
          4.194143,
          0.82562935,
          4.098523,
          2.2160938,
          4.501502,
          -6.0386114,
          5.7779064,
          -2.8073487,
          4.849638,
          4.4701433,
          1.0204397,
          6.0554667,
          0.7667731,
          6.5668206,
          -1.0302162,
          3.747115,
          5.2826514,
          5.101755,
          0.98350894,
          6.026862,
          1.3698964,
          5.325077,
          -3.1770313,
          5.485831,
          3.7750173,
          4.5468807,
          -0.770335,
          2.9724357,
          3.5046468,
          1.2898117,
          4.870735,
          -2.3818028,
          4.48081,
          0.6452461,
          2.9320498,
          -0.8608965,
          0.5297633,
          3.7513518,
          -0.79128647,
          -0.865536,
          1.4001641,
          1.2627448,
          0.95417565,
          0.7822037,
          6.3007407,
          -5.1682916,
          4.4912977,
          -4.3621616,
          -3.4108438,
          -1.3546246,
          2.0028422,
          6.282198,
          0.41121864,
          3.6609612,
          0.82121617,
          2.985746,
          2.412209,
          1.4450364,
          -0.8874164,
          -3.1875215,
          1.3867373,
          -0.3819968,
          -0.23004812,
          5.301842,
          2.420663,
          -0.15285519,
          0.17580348,
          -0.46826738,
          -3.569072,
          -0.24357691,
          1.8819079,
          2.7056618,
          0.91377205,
          1.2073494,
          1.467766,
          3.2993164,
          4.4383955
         ],
         "xaxis": "x",
         "y": [
          -0.09648885,
          1.3879951,
          0.066898786,
          0.84898496,
          -0.11416452,
          0.49367005,
          0.62584114,
          -0.25837067,
          0.30119723,
          0.44374648,
          0.09747862,
          0.090807855,
          0.5645619,
          1.1754279,
          1.7898015,
          0.26059777,
          0.21125178,
          0.28806388,
          0.15257193,
          0.53320265,
          0.40686578,
          0.59445566,
          0.984088,
          -0.6439471,
          0.44242534,
          -0.9568587,
          0.05438994,
          1.0188639,
          0.46432364,
          0.02013036,
          0.30402282,
          0.29040858,
          0.8609532,
          -1.0828003,
          -0.99961805,
          -0.9516066,
          -0.9640254,
          -1.2528155,
          0.90716624,
          0.33687726,
          0.027288934,
          0.79579365,
          1.021359,
          0.39830554,
          0.74614096,
          0.36912036,
          -0.1356844,
          -0.14798538,
          0.47996703,
          1.5005293,
          0.7211583,
          0.5645964,
          0.24231467,
          -0.10356421,
          -2.8609562,
          1.1792746,
          1.324436,
          0.35295105,
          0.55377084,
          0.16905643,
          0.7760011,
          0.76176476,
          6.329571,
          0.7711246,
          0.8999846,
          0.15522127,
          1.1720761,
          0.15693066,
          0.31408247,
          0.82945937,
          -0.20045945,
          0.026460191,
          3.914786,
          3.6583543,
          0.27552056,
          0.0336332,
          0.8987618,
          -4.220396,
          0.13885935,
          1.129967,
          3.5836122,
          0.598834,
          0.5391554,
          1.1800294,
          0.44155884,
          0.44287923,
          -2.8837967,
          -1.4678044,
          1.1610086,
          3.8366833,
          -3.4872515,
          3.190848,
          1.0429972,
          1.0613117,
          0.67223847,
          5.799313,
          0.060230814,
          1.0185534,
          1.4538858,
          0.7283731,
          5.139967,
          2.859989,
          -2.3103201,
          0.9432119,
          3.6898286,
          1.1216551,
          1.0390273,
          2.4970677,
          4.389697,
          0.44494212,
          -0.073859446,
          0.7905303,
          3.8227825,
          -5.6621685,
          5.4901214,
          1.117744,
          0.8345461,
          5.8029046,
          4.6559796,
          -0.05239358,
          -0.29381558,
          0.8395799,
          -6.0234156,
          -4.926322,
          0.7352811,
          5.456542,
          -5.359436,
          1.7349643,
          3.9375002,
          -2.6327446,
          -0.024494778,
          -2.4723532,
          -2.980187,
          1.5982745,
          -1.7345927,
          0.35839975,
          -0.53158855,
          -0.65353495,
          -2.970817,
          2.8769116,
          3.3316617,
          0.88458645,
          0.02094524,
          -6.1823864,
          3.2962961,
          -2.3888528,
          -2.098837,
          -2.7860887,
          0.5370666,
          4.3431973,
          -4.6260967,
          3.045813,
          1.3350445,
          -4.3748593,
          -5.360036,
          2.2905993,
          0.021104433,
          -3.4934313,
          -0.035234984,
          0.07039167,
          0.8357758,
          0.914294,
          -0.07279311,
          2.95974,
          0.75965446,
          1.5267782,
          -4.4385877,
          2.4779313,
          -4.7329617,
          1.9130749,
          -0.83128196,
          -1.3633081,
          0.005900378,
          1.028038,
          -1.7217339,
          0.3140846,
          1.9583027,
          -3.3014987,
          -5.4268336,
          -0.12231103,
          3.9442172,
          1.2753112,
          -0.23094274,
          3.8331213,
          0.29955176,
          1.4889302,
          -1.8331238,
          -2.2628837,
          -0.114345096,
          1.1081411,
          0.77467656,
          6.629549,
          0.41204765,
          2.3996654,
          4.8494325,
          0.50958735,
          -6.161282,
          1.9659269,
          2.3095691,
          -0.730458
         ],
         "yaxis": "y"
        }
       ],
       "layout": {
        "legend": {
         "tracegroupgap": 0
        },
        "margin": {
         "t": 60
        },
        "template": {
         "data": {
          "bar": [
           {
            "error_x": {
             "color": "#2a3f5f"
            },
            "error_y": {
             "color": "#2a3f5f"
            },
            "marker": {
             "line": {
              "color": "#E5ECF6",
              "width": 0.5
             },
             "pattern": {
              "fillmode": "overlay",
              "size": 10,
              "solidity": 0.2
             }
            },
            "type": "bar"
           }
          ],
          "barpolar": [
           {
            "marker": {
             "line": {
              "color": "#E5ECF6",
              "width": 0.5
             },
             "pattern": {
              "fillmode": "overlay",
              "size": 10,
              "solidity": 0.2
             }
            },
            "type": "barpolar"
           }
          ],
          "carpet": [
           {
            "aaxis": {
             "endlinecolor": "#2a3f5f",
             "gridcolor": "white",
             "linecolor": "white",
             "minorgridcolor": "white",
             "startlinecolor": "#2a3f5f"
            },
            "baxis": {
             "endlinecolor": "#2a3f5f",
             "gridcolor": "white",
             "linecolor": "white",
             "minorgridcolor": "white",
             "startlinecolor": "#2a3f5f"
            },
            "type": "carpet"
           }
          ],
          "choropleth": [
           {
            "colorbar": {
             "outlinewidth": 0,
             "ticks": ""
            },
            "type": "choropleth"
           }
          ],
          "contour": [
           {
            "colorbar": {
             "outlinewidth": 0,
             "ticks": ""
            },
            "colorscale": [
             [
              0,
              "#0d0887"
             ],
             [
              0.1111111111111111,
              "#46039f"
             ],
             [
              0.2222222222222222,
              "#7201a8"
             ],
             [
              0.3333333333333333,
              "#9c179e"
             ],
             [
              0.4444444444444444,
              "#bd3786"
             ],
             [
              0.5555555555555556,
              "#d8576b"
             ],
             [
              0.6666666666666666,
              "#ed7953"
             ],
             [
              0.7777777777777778,
              "#fb9f3a"
             ],
             [
              0.8888888888888888,
              "#fdca26"
             ],
             [
              1,
              "#f0f921"
             ]
            ],
            "type": "contour"
           }
          ],
          "contourcarpet": [
           {
            "colorbar": {
             "outlinewidth": 0,
             "ticks": ""
            },
            "type": "contourcarpet"
           }
          ],
          "heatmap": [
           {
            "colorbar": {
             "outlinewidth": 0,
             "ticks": ""
            },
            "colorscale": [
             [
              0,
              "#0d0887"
             ],
             [
              0.1111111111111111,
              "#46039f"
             ],
             [
              0.2222222222222222,
              "#7201a8"
             ],
             [
              0.3333333333333333,
              "#9c179e"
             ],
             [
              0.4444444444444444,
              "#bd3786"
             ],
             [
              0.5555555555555556,
              "#d8576b"
             ],
             [
              0.6666666666666666,
              "#ed7953"
             ],
             [
              0.7777777777777778,
              "#fb9f3a"
             ],
             [
              0.8888888888888888,
              "#fdca26"
             ],
             [
              1,
              "#f0f921"
             ]
            ],
            "type": "heatmap"
           }
          ],
          "heatmapgl": [
           {
            "colorbar": {
             "outlinewidth": 0,
             "ticks": ""
            },
            "colorscale": [
             [
              0,
              "#0d0887"
             ],
             [
              0.1111111111111111,
              "#46039f"
             ],
             [
              0.2222222222222222,
              "#7201a8"
             ],
             [
              0.3333333333333333,
              "#9c179e"
             ],
             [
              0.4444444444444444,
              "#bd3786"
             ],
             [
              0.5555555555555556,
              "#d8576b"
             ],
             [
              0.6666666666666666,
              "#ed7953"
             ],
             [
              0.7777777777777778,
              "#fb9f3a"
             ],
             [
              0.8888888888888888,
              "#fdca26"
             ],
             [
              1,
              "#f0f921"
             ]
            ],
            "type": "heatmapgl"
           }
          ],
          "histogram": [
           {
            "marker": {
             "pattern": {
              "fillmode": "overlay",
              "size": 10,
              "solidity": 0.2
             }
            },
            "type": "histogram"
           }
          ],
          "histogram2d": [
           {
            "colorbar": {
             "outlinewidth": 0,
             "ticks": ""
            },
            "colorscale": [
             [
              0,
              "#0d0887"
             ],
             [
              0.1111111111111111,
              "#46039f"
             ],
             [
              0.2222222222222222,
              "#7201a8"
             ],
             [
              0.3333333333333333,
              "#9c179e"
             ],
             [
              0.4444444444444444,
              "#bd3786"
             ],
             [
              0.5555555555555556,
              "#d8576b"
             ],
             [
              0.6666666666666666,
              "#ed7953"
             ],
             [
              0.7777777777777778,
              "#fb9f3a"
             ],
             [
              0.8888888888888888,
              "#fdca26"
             ],
             [
              1,
              "#f0f921"
             ]
            ],
            "type": "histogram2d"
           }
          ],
          "histogram2dcontour": [
           {
            "colorbar": {
             "outlinewidth": 0,
             "ticks": ""
            },
            "colorscale": [
             [
              0,
              "#0d0887"
             ],
             [
              0.1111111111111111,
              "#46039f"
             ],
             [
              0.2222222222222222,
              "#7201a8"
             ],
             [
              0.3333333333333333,
              "#9c179e"
             ],
             [
              0.4444444444444444,
              "#bd3786"
             ],
             [
              0.5555555555555556,
              "#d8576b"
             ],
             [
              0.6666666666666666,
              "#ed7953"
             ],
             [
              0.7777777777777778,
              "#fb9f3a"
             ],
             [
              0.8888888888888888,
              "#fdca26"
             ],
             [
              1,
              "#f0f921"
             ]
            ],
            "type": "histogram2dcontour"
           }
          ],
          "mesh3d": [
           {
            "colorbar": {
             "outlinewidth": 0,
             "ticks": ""
            },
            "type": "mesh3d"
           }
          ],
          "parcoords": [
           {
            "line": {
             "colorbar": {
              "outlinewidth": 0,
              "ticks": ""
             }
            },
            "type": "parcoords"
           }
          ],
          "pie": [
           {
            "automargin": true,
            "type": "pie"
           }
          ],
          "scatter": [
           {
            "fillpattern": {
             "fillmode": "overlay",
             "size": 10,
             "solidity": 0.2
            },
            "type": "scatter"
           }
          ],
          "scatter3d": [
           {
            "line": {
             "colorbar": {
              "outlinewidth": 0,
              "ticks": ""
             }
            },
            "marker": {
             "colorbar": {
              "outlinewidth": 0,
              "ticks": ""
             }
            },
            "type": "scatter3d"
           }
          ],
          "scattercarpet": [
           {
            "marker": {
             "colorbar": {
              "outlinewidth": 0,
              "ticks": ""
             }
            },
            "type": "scattercarpet"
           }
          ],
          "scattergeo": [
           {
            "marker": {
             "colorbar": {
              "outlinewidth": 0,
              "ticks": ""
             }
            },
            "type": "scattergeo"
           }
          ],
          "scattergl": [
           {
            "marker": {
             "colorbar": {
              "outlinewidth": 0,
              "ticks": ""
             }
            },
            "type": "scattergl"
           }
          ],
          "scattermapbox": [
           {
            "marker": {
             "colorbar": {
              "outlinewidth": 0,
              "ticks": ""
             }
            },
            "type": "scattermapbox"
           }
          ],
          "scatterpolar": [
           {
            "marker": {
             "colorbar": {
              "outlinewidth": 0,
              "ticks": ""
             }
            },
            "type": "scatterpolar"
           }
          ],
          "scatterpolargl": [
           {
            "marker": {
             "colorbar": {
              "outlinewidth": 0,
              "ticks": ""
             }
            },
            "type": "scatterpolargl"
           }
          ],
          "scatterternary": [
           {
            "marker": {
             "colorbar": {
              "outlinewidth": 0,
              "ticks": ""
             }
            },
            "type": "scatterternary"
           }
          ],
          "surface": [
           {
            "colorbar": {
             "outlinewidth": 0,
             "ticks": ""
            },
            "colorscale": [
             [
              0,
              "#0d0887"
             ],
             [
              0.1111111111111111,
              "#46039f"
             ],
             [
              0.2222222222222222,
              "#7201a8"
             ],
             [
              0.3333333333333333,
              "#9c179e"
             ],
             [
              0.4444444444444444,
              "#bd3786"
             ],
             [
              0.5555555555555556,
              "#d8576b"
             ],
             [
              0.6666666666666666,
              "#ed7953"
             ],
             [
              0.7777777777777778,
              "#fb9f3a"
             ],
             [
              0.8888888888888888,
              "#fdca26"
             ],
             [
              1,
              "#f0f921"
             ]
            ],
            "type": "surface"
           }
          ],
          "table": [
           {
            "cells": {
             "fill": {
              "color": "#EBF0F8"
             },
             "line": {
              "color": "white"
             }
            },
            "header": {
             "fill": {
              "color": "#C8D4E3"
             },
             "line": {
              "color": "white"
             }
            },
            "type": "table"
           }
          ]
         },
         "layout": {
          "annotationdefaults": {
           "arrowcolor": "#2a3f5f",
           "arrowhead": 0,
           "arrowwidth": 1
          },
          "autotypenumbers": "strict",
          "coloraxis": {
           "colorbar": {
            "outlinewidth": 0,
            "ticks": ""
           }
          },
          "colorscale": {
           "diverging": [
            [
             0,
             "#8e0152"
            ],
            [
             0.1,
             "#c51b7d"
            ],
            [
             0.2,
             "#de77ae"
            ],
            [
             0.3,
             "#f1b6da"
            ],
            [
             0.4,
             "#fde0ef"
            ],
            [
             0.5,
             "#f7f7f7"
            ],
            [
             0.6,
             "#e6f5d0"
            ],
            [
             0.7,
             "#b8e186"
            ],
            [
             0.8,
             "#7fbc41"
            ],
            [
             0.9,
             "#4d9221"
            ],
            [
             1,
             "#276419"
            ]
           ],
           "sequential": [
            [
             0,
             "#0d0887"
            ],
            [
             0.1111111111111111,
             "#46039f"
            ],
            [
             0.2222222222222222,
             "#7201a8"
            ],
            [
             0.3333333333333333,
             "#9c179e"
            ],
            [
             0.4444444444444444,
             "#bd3786"
            ],
            [
             0.5555555555555556,
             "#d8576b"
            ],
            [
             0.6666666666666666,
             "#ed7953"
            ],
            [
             0.7777777777777778,
             "#fb9f3a"
            ],
            [
             0.8888888888888888,
             "#fdca26"
            ],
            [
             1,
             "#f0f921"
            ]
           ],
           "sequentialminus": [
            [
             0,
             "#0d0887"
            ],
            [
             0.1111111111111111,
             "#46039f"
            ],
            [
             0.2222222222222222,
             "#7201a8"
            ],
            [
             0.3333333333333333,
             "#9c179e"
            ],
            [
             0.4444444444444444,
             "#bd3786"
            ],
            [
             0.5555555555555556,
             "#d8576b"
            ],
            [
             0.6666666666666666,
             "#ed7953"
            ],
            [
             0.7777777777777778,
             "#fb9f3a"
            ],
            [
             0.8888888888888888,
             "#fdca26"
            ],
            [
             1,
             "#f0f921"
            ]
           ]
          },
          "colorway": [
           "#636efa",
           "#EF553B",
           "#00cc96",
           "#ab63fa",
           "#FFA15A",
           "#19d3f3",
           "#FF6692",
           "#B6E880",
           "#FF97FF",
           "#FECB52"
          ],
          "font": {
           "color": "#2a3f5f"
          },
          "geo": {
           "bgcolor": "white",
           "lakecolor": "white",
           "landcolor": "#E5ECF6",
           "showlakes": true,
           "showland": true,
           "subunitcolor": "white"
          },
          "hoverlabel": {
           "align": "left"
          },
          "hovermode": "closest",
          "mapbox": {
           "style": "light"
          },
          "paper_bgcolor": "white",
          "plot_bgcolor": "#E5ECF6",
          "polar": {
           "angularaxis": {
            "gridcolor": "white",
            "linecolor": "white",
            "ticks": ""
           },
           "bgcolor": "#E5ECF6",
           "radialaxis": {
            "gridcolor": "white",
            "linecolor": "white",
            "ticks": ""
           }
          },
          "scene": {
           "xaxis": {
            "backgroundcolor": "#E5ECF6",
            "gridcolor": "white",
            "gridwidth": 2,
            "linecolor": "white",
            "showbackground": true,
            "ticks": "",
            "zerolinecolor": "white"
           },
           "yaxis": {
            "backgroundcolor": "#E5ECF6",
            "gridcolor": "white",
            "gridwidth": 2,
            "linecolor": "white",
            "showbackground": true,
            "ticks": "",
            "zerolinecolor": "white"
           },
           "zaxis": {
            "backgroundcolor": "#E5ECF6",
            "gridcolor": "white",
            "gridwidth": 2,
            "linecolor": "white",
            "showbackground": true,
            "ticks": "",
            "zerolinecolor": "white"
           }
          },
          "shapedefaults": {
           "line": {
            "color": "#2a3f5f"
           }
          },
          "ternary": {
           "aaxis": {
            "gridcolor": "white",
            "linecolor": "white",
            "ticks": ""
           },
           "baxis": {
            "gridcolor": "white",
            "linecolor": "white",
            "ticks": ""
           },
           "bgcolor": "#E5ECF6",
           "caxis": {
            "gridcolor": "white",
            "linecolor": "white",
            "ticks": ""
           }
          },
          "title": {
           "x": 0.05
          },
          "xaxis": {
           "automargin": true,
           "gridcolor": "white",
           "linecolor": "white",
           "ticks": "",
           "title": {
            "standoff": 15
           },
           "zerolinecolor": "white",
           "zerolinewidth": 2
          },
          "yaxis": {
           "automargin": true,
           "gridcolor": "white",
           "linecolor": "white",
           "ticks": "",
           "title": {
            "standoff": 15
           },
           "zerolinecolor": "white",
           "zerolinewidth": 2
          }
         }
        },
        "xaxis": {
         "anchor": "y",
         "domain": [
          0,
          1
         ],
         "title": {
          "text": "x"
         }
        },
        "yaxis": {
         "anchor": "x",
         "domain": [
          0,
          1
         ],
         "title": {
          "text": "y"
         }
        }
       }
      }
     },
     "metadata": {},
     "output_type": "display_data"
    }
   ],
   "source": [
    "# Graficar los embedddings en 2D\n",
    "import plotly.graph_objects as go\n",
    "import plotly.express as px\n",
    "\n",
    "x_vals, y_vals, labels = reduce_dimensions(w2v_model)\n",
    "\n",
    "MAX_WORDS=200\n",
    "fig = px.scatter(x=x_vals[:MAX_WORDS], y=y_vals[:MAX_WORDS], text=labels[:MAX_WORDS])\n",
    "fig.show()"
   ]
  },
  {
   "cell_type": "markdown",
   "metadata": {},
   "source": [
    "# Conclusiones\n",
    "\n",
    "Al ser mucho más grande el dataset el entrenamiento es más costoso que analizar las letras de canciones de una banda. Por el mismo motivo al existir muchas más palabras, las relaciones entre las mismas se vuelven más difusas.\n",
    "\n",
    "De todas formas el desempeño en general es \"bueno\", las palabras más relacionadas con cada token utilizado tienen cierto sentido."
   ]
  },
  {
   "cell_type": "markdown",
   "metadata": {
    "id": "yMM_SHSaZ9N-"
   },
   "source": [
    "### Alumno"
   ]
  },
  {
   "cell_type": "markdown",
   "metadata": {
    "id": "WivQZ3ZCZ9N_"
   },
   "source": [
    "- Crear sus propios vectores con Gensim basado en lo visto en clase con otro dataset.\n",
    "- Probar términos de interés y explicar similitudes en el espacio de embeddings (sacar conclusiones entre palabras similitudes y diferencias).\n",
    "- Graficarlos.\n",
    "- Obtener conclusiones."
   ]
  }
 ],
 "metadata": {
  "colab": {
   "collapsed_sections": [],
   "provenance": []
  },
  "kernelspec": {
   "display_name": "Python 3 (ipykernel)",
   "language": "python",
   "name": "python3"
  },
  "language_info": {
   "codemirror_mode": {
    "name": "ipython",
    "version": 3
   },
   "file_extension": ".py",
   "mimetype": "text/x-python",
   "name": "python",
   "nbconvert_exporter": "python",
   "pygments_lexer": "ipython3",
   "version": "3.9.17"
  }
 },
 "nbformat": 4,
 "nbformat_minor": 4
}
